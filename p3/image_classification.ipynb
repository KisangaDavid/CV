{
  "cells": [
    {
      "cell_type": "markdown",
      "metadata": {
        "id": "PgO0k03dlZ-T"
      },
      "source": [
        "# Introduction\n",
        "\n",
        "\n",
        "In this assignment, you will practice building and training Convolutional Neural Networks with Pytorch to solve computer vision tasks.  This assignment includes two sections, each involving different tasks:\n",
        "\n",
        "(1) Image Classification. Predict image-level category labels on two historically notable image datasets: **CIFAR-10** and **MNIST**.\n",
        "\n",
        "(2) Image Segmentation. Predict pixel-wise classification (semantic segmentation) on synthetic input images formed by superimposing MNIST images on top of CIFAR images.\n",
        "\n",
        "You will design your own models in each section and build the entire training/testing pipeline with PyTorch. \n",
        "PyTorch provides optimized implementations of the building blocks and additional utilities, both of which will be necessary for experiments on real datasets. It is highly recommended to read the official [documentation](https://pytorch.org/docs/stable/index.html) and [examples](https://pytorch.org/tutorials/beginner/blitz/cifar10_tutorial.html) before starting your implementation. There are some APIs that you'll find useful:\n",
        "[Layers](http://pytorch.org/docs/stable/nn.html),\n",
        "[Activations](https://pytorch.org/docs/stable/nn.html#non-linear-activations-weighted-sum-nonlinearity),\n",
        "[Loss functions](http://pytorch.org/docs/stable/nn.html#loss-functions),\n",
        "[Optimizers](http://pytorch.org/docs/stable/optim.html)\n",
        "\n",
        "It is highly recommended to use Google Colab and run the notebook on a GPU node. Check https://colab.research.google.com/ and look for tutorials online. To use a GPU go to Runtime -> Change runtime type and select GPU. \n",
        "\n",
        "\n",
        "\n",
        "\n"
      ]
    },
    {
      "cell_type": "markdown",
      "metadata": {
        "id": "b5lueGqqw6sR"
      },
      "source": [
        "# (1) Image Classification\n",
        "\n",
        "In this section, you will design and train an image classification network, which takes images as input and outputs vectors whose length equals the number of possible categories on **MNIST** and **CIFAR-10** datasets. \n",
        "\n",
        "You can design your models by borrowing ideas from recent architectures, e.g., ResNet, but you may not simply copy an entire existing model. \n",
        "\n",
        "For image classification, you can use a built-in dataset provided by [torchvision](https://pytorch.org/vision/stable/index.html), a PyTorch official extension for image tasks. \n",
        "\n",
        "To finish this section step by step, you need to:\n",
        "\n",
        "* Prepare data by building a dataset and dataloader. (with [torchvision](https://pytorch.org/vision/stable/index.html))\n",
        "\n",
        "* Implement training code (6 points) & testing code (6 points), including model saving and loading.\n",
        "\n",
        "* Construct a model (12 points) and choose an optimizer (3 points).\n",
        "\n",
        "* Describe what you did, any additional features you implemented, and/or any graphs you made in training and evaluating your network. Also report final test accuracy @100 epochs in a writeup: hw3.pdf (3 points)"
      ]
    },
    {
      "cell_type": "code",
      "execution_count": 123,
      "metadata": {
        "id": "2nAlwqqFzLfU"
      },
      "outputs": [],
      "source": [
        "import numpy as np\n",
        "import os\n",
        "import math\n",
        "import torch\n",
        "import torch.nn as nn\n",
        "import torch.nn.functional as F\n",
        "import torch.optim as optim\n",
        "from torch.utils.data import DataLoader\n",
        "from torch.utils.data import sampler\n",
        "from torch.utils.data import random_split\n",
        "import torchvision\n",
        "import torchvision.transforms as T\n"
      ]
    },
    {
      "cell_type": "markdown",
      "metadata": {
        "id": "QpFf3VOO1bT1"
      },
      "source": [
        "## Data Preparation:\n",
        "\n",
        "Setup a Dataset for training and testing.\n",
        "\n",
        "Datasets load single training examples one a time, so we practically wrap each Dataset in a DataLoader, which loads a data batch in parallel.\n",
        "\n",
        "We provide an example for setting up a training set for MNIST, and you should complete the rest. "
      ]
    },
    {
      "cell_type": "code",
      "execution_count": 124,
      "metadata": {
        "id": "R_6rGLHwzMxp"
      },
      "outputs": [
        {
          "name": "stdout",
          "output_type": "stream",
          "text": [
            "Files already downloaded and verified\n",
            "Files already downloaded and verified\n"
          ]
        }
      ],
      "source": [
        "# Setting up MNIST data loaders\n",
        "mnist_train = torchvision.datasets.MNIST('./data', train = True, download = True, transform = T.ToTensor())\n",
        "mnist_train, mnist_val = random_split(mnist_train, [int(0.9 * len(mnist_train)), int(0.1 * len(mnist_train))])\n",
        "\n",
        "mnist_train_data_loader = torch.utils.data.DataLoader(mnist_train,\n",
        "                                          batch_size=50,\n",
        "                                          shuffle=True,\n",
        "                                          num_workers=2)\n",
        "\n",
        "mnist_val_data_loader = torch.utils.data.DataLoader(mnist_val,\n",
        "                                          batch_size=50,\n",
        "                                          shuffle=True,\n",
        "                                          num_workers=2)\n",
        "\n",
        "mnist_test = torchvision.datasets.MNIST(\"./data\", train = False, download = True, transform = T.ToTensor())\n",
        "mnist_test_data_loader = torch.utils.data.DataLoader(mnist_test,\n",
        "                                          batch_size=50,\n",
        "                                          shuffle=True,\n",
        "                                          num_workers=2)\n",
        "\n",
        "# Setting up CIFAR10 data loaders\n",
        "cifar_train = torchvision.datasets.CIFAR10('./data', train = True, download = True, transform = T.ToTensor())\n",
        "cifar_train, cifar_val = random_split(cifar_train, [int(0.9 * len(cifar_train)), int(0.1 * len(cifar_train))])\n",
        "\n",
        "cifar_train_data_loader = torch.utils.data.DataLoader(cifar_train,\n",
        "                                          batch_size=50,\n",
        "                                          shuffle=True,\n",
        "                                          num_workers=2)\n",
        "\n",
        "cifar_val_data_loader = torch.utils.data.DataLoader(cifar_val,\n",
        "                                          batch_size=50,\n",
        "                                          shuffle=True,\n",
        "                                          num_workers=2)\n",
        "\n",
        "cifar_test = torchvision.datasets.CIFAR10(\"./data\", train = False, download = True, transform = T.ToTensor())\n",
        "cifar_test_data_loader = torch.utils.data.DataLoader(cifar_test,\n",
        "                                          batch_size=50,\n",
        "                                          shuffle=True,\n",
        "                                          num_workers=2)\n",
        "\n"
      ]
    },
    {
      "cell_type": "markdown",
      "metadata": {
        "id": "58GUecr83BmH"
      },
      "source": [
        "## Design/choose your own model structure (12 points) and optimizer (3 points).\n",
        "You might want to adjust the following configurations for better performance:\n",
        "\n",
        "(1) Network architecture:\n",
        "- You can borrow some ideas from existing CNN designs, e.g., ResNet where\n",
        "the input from the previous layer is added to the output\n",
        "https://arxiv.org/abs/1512.03385\n",
        "- Note: Do not **directly copy** an entire existing network design.\n",
        "\n",
        "(2) Architecture hyperparameters:\n",
        "- Filter size, number of filters, and number of layers (depth). Make careful choices to tradeoff computational efficiency and accuracy.\n",
        "- Pooling vs. Strided Convolution\n",
        "- Batch normalization\n",
        "- Choice of non-linear activation\n",
        "\n",
        "(3) Choice of optimizer (e.g., SGD, Adam, Adagrad, RMSprop) and associated hyperparameters (e.g., learning rate, momentum)."
      ]
    },
    {
      "cell_type": "code",
      "execution_count": 125,
      "metadata": {
        "id": "4ZA5kw3X3qLy"
      },
      "outputs": [],
      "source": [
        "#Basic model, feel free to customize the layout to fit your model design.\n",
        "\n",
        "##########################################################################\n",
        "# TODO: YOUR CODE HERE\n",
        "# (1) Design the model for MNIST\n",
        "# (2) Design the model for CIFAR-10\n",
        "##########################################################################\n",
        "\n",
        "# model with 1 convolution layer \n",
        "class MnistNet(nn.Module):\n",
        "    def __init__(self):\n",
        "        super(MnistNet, self).__init__()\n",
        "        # Can add more layers and max pool after activating\n",
        "        self.convLayers = nn.Sequential(nn.Conv2d(in_channels = 1, out_channels = 8, kernel_size=3, stride=1, padding=1), nn.BatchNorm2d(8), nn.ReLU(), nn.MaxPool2d(2))\n",
        "        self.out = nn.Linear(14*14*8, 10)\n",
        "\n",
        "\n",
        "    def forward(self, x):\n",
        "        x = self.convLayers(x)\n",
        "        x = x.view(x.size(0), -1)\n",
        "        out = self.out(x)\n",
        "        return out\n",
        "\n",
        "class CifarNet(nn.Module):\n",
        "    def __init__(self):\n",
        "        super(CifarNet, self).__init__()\n",
        "        # Add batch normalization?\n",
        "        self.convLayers = nn.Sequential(\n",
        "            nn.Conv2d(in_channels = 3, out_channels = 8, kernel_size=3, stride=1, padding=1), \n",
        "            nn.ReLU(), \n",
        "            nn.Conv2d(in_channels = 8, out_channels = 16, kernel_size = 3, stride = 1, padding = 1),\n",
        "            nn.BatchNorm2d(16),\n",
        "            nn.ReLU(), \n",
        "            nn.MaxPool2d(2),\n",
        "\n",
        "            nn.Conv2d(in_channels = 16, out_channels = 32, kernel_size=3, stride=1, padding=1),\n",
        "            nn.ReLU(),\n",
        "            nn.Conv2d(in_channels = 32, out_channels = 32, kernel_size=3, stride=1, padding=1),\n",
        "            nn.BatchNorm2d(32),\n",
        "            nn.ReLU(),\n",
        "            nn.MaxPool2d(2)\n",
        "\n",
        "\n",
        "            )\n",
        "        self.out = nn.Sequential(\n",
        "            nn.Linear(8*8*32, 512),\n",
        "            nn.ReLU(),\n",
        "            nn.Linear(512, 10)\n",
        "        )\n",
        "\n",
        "\n",
        "    def forward(self, x):\n",
        "        x = self.convLayers(x)\n",
        "        x = x.view(x.size(0), -1)\n",
        "        out = self.out(x)\n",
        "        return out\n",
        "\n",
        "# Using Adam optimizer with suggested parameters from class, learning rate = 0.001, betas = 0.9, 0.999. Initialized in the last code block, shown below just for completeness\n",
        "### optimizer = optim.Adam(mnistNet1.parameters(), lr = 0.001, betas=(0.9,0.999))\n"
      ]
    },
    {
      "cell_type": "markdown",
      "metadata": {
        "id": "MOuB58GA5W_C"
      },
      "source": [
        "## Training (6 points)\n",
        "\n",
        "Train a model on the given dataset using the PyTorch Module API.\n",
        "\n",
        "Inputs:\n",
        "- loader_train: The loader from which train samples will be drawn from.\n",
        "- loader_test: The loader from which test samples will be drawn from.\n",
        "- model: A PyTorch Module giving the model to train.\n",
        "- optimizer: An Optimizer object we will use to train the model.\n",
        "- epochs: (Optional) A Python integer giving the number of epochs to train for.\n",
        "\n",
        "Returns: Nothing, but prints model accuracies during training."
      ]
    },
    {
      "cell_type": "code",
      "execution_count": 126,
      "metadata": {
        "id": "0Kx_q5rv5ddg"
      },
      "outputs": [],
      "source": [
        "def validate(loader_validation, model, device):\n",
        "    model = model.to(device)\n",
        "    model.eval()\n",
        "    num_samples = 0\n",
        "    num_correct = 0\n",
        "    for t, (x,y) in enumerate(loader_validation):\n",
        "        x = x.to(device)\n",
        "        y = y.to(device)\n",
        "        # For validation using loss:\n",
        "        # loss = F.cross_entropy(model(x), y)\n",
        "        num_samples += x.size()[0]\n",
        "        outputs = torch.argmax(model(x),1)\n",
        "        num_correct += (outputs == y).sum()\n",
        "\n",
        "    return (num_correct / num_samples) * 100\n",
        "\n",
        "def train(loader_train, loader_test, model, optimizer, model_name, epochs=100):\n",
        "\n",
        "    # Working locally on laptop and desktop, sometimes no gpu available. Device is gpu if gpu is available, cpu otherwise\n",
        "    device = torch.device(\"cuda:0\" if torch.cuda.is_available() else \"cpu\")\n",
        "    print(device)\n",
        "    model = model.to(device)\n",
        "    criterion = nn.CrossEntropyLoss()\n",
        "    prevValAcc = None\n",
        "    bestModelStateDict = None\n",
        "    for e in range(epochs):\n",
        "        model.train()\n",
        "        for t, (x, y) in enumerate(loader_train):\n",
        "            x = x.to(device)\n",
        "            y = y.to(device)\n",
        "            outputs = model(x)\n",
        "            loss = criterion(outputs, y)\n",
        "            optimizer.zero_grad()\n",
        "            loss.backward()\n",
        "            optimizer.step()\n",
        "\n",
        "            if t % 100 == 0:\n",
        "                print('Epoch %d, Iteration %d, loss = %.4f' % (e, t, loss.item()))\n",
        "       \n",
        "        valAcc = validate(loader_test, model, device)\n",
        "        print(f\"validation accuracy on validation set: {valAcc}\")\n",
        "        if prevValAcc == None:\n",
        "            prevValAcc = valAcc\n",
        "            bestModelStateDict = model.state_dict()\n",
        "            continue\n",
        "\n",
        "        # Early stopping condition\n",
        "        if valAcc < prevValAcc:\n",
        "             print(f\"EARLY STOP DUE TO DECREASED VALIDATION ACCURACY: STOPPED TRAINING AT EPOCH {e}\")\n",
        "             print(f\"best model validation accuracy: {prevValAcc}\")\n",
        "             break\n",
        "        else:\n",
        "            prevValAcc = valAcc\n",
        "            bestModelStateDict = model.state_dict()\n",
        "    # saving model \n",
        "    torch.save(bestModelStateDict, model_name + '.pth')\n",
        "\n",
        "            \n"
      ]
    },
    {
      "cell_type": "markdown",
      "metadata": {
        "id": "bdxEMZpC6E9K"
      },
      "source": [
        "## Testing (6 points)\n",
        "Test a model using the PyTorch Module API.\n",
        "\n",
        "Inputs:\n",
        "- loader: The loader from which test samples will be drawn from.\n",
        "- model: A PyTorch Module giving the model to test.\n",
        "\n",
        "Returns: Nothing, but prints model accuracies during training."
      ]
    },
    {
      "cell_type": "code",
      "execution_count": 127,
      "metadata": {
        "id": "KA5YBjxx6IeF"
      },
      "outputs": [],
      "source": [
        "def test(loader, model, model_name):\n",
        "    model.load_state_dict(torch.load(model_name + '.pth'))\n",
        "    num_correct = 0\n",
        "    num_samples = 0\n",
        "    model.eval() # set model to evaluation mode\n",
        "    device = torch.device(\"cuda:0\" if torch.cuda.is_available() else \"cpu\")\n",
        "    model.to(device)\n",
        "    with torch.no_grad():\n",
        "        for x, y in loader:\n",
        "            x = x.to(device)\n",
        "            y = y.to(device)\n",
        "            num_samples += x.size()[0]\n",
        "            outputs = torch.argmax(model(x),1)\n",
        "            num_correct += (outputs == y).sum()\n",
        "            \n",
        "    acc = num_correct / num_samples\n",
        "    print('Eval %d / %d correct (%.2f)' % (num_correct, num_samples, 100 * acc))\n"
      ]
    },
    {
      "cell_type": "markdown",
      "metadata": {
        "id": "omwoZPA26V-a"
      },
      "source": [
        "Describe your design details in the writeup hw3.pdf. (3 points)\n",
        "\n",
        "Finish your model and optimizer below."
      ]
    },
    {
      "cell_type": "code",
      "execution_count": 128,
      "metadata": {
        "id": "jM6GIIFP6XhG"
      },
      "outputs": [
        {
          "name": "stdout",
          "output_type": "stream",
          "text": [
            "cuda:0\n"
          ]
        },
        {
          "name": "stdout",
          "output_type": "stream",
          "text": [
            "Epoch 0, Iteration 0, loss = 2.3548\n",
            "Epoch 0, Iteration 100, loss = 1.6936\n",
            "Epoch 0, Iteration 200, loss = 1.3450\n",
            "Epoch 0, Iteration 300, loss = 1.2070\n",
            "Epoch 0, Iteration 400, loss = 1.4001\n",
            "Epoch 0, Iteration 500, loss = 1.1440\n",
            "Epoch 0, Iteration 600, loss = 1.1203\n",
            "Epoch 0, Iteration 700, loss = 1.0432\n",
            "Epoch 0, Iteration 800, loss = 1.0252\n",
            "validation accuracy on validation set: 62.5\n",
            "Epoch 1, Iteration 0, loss = 0.9835\n",
            "Epoch 1, Iteration 100, loss = 1.1591\n",
            "Epoch 1, Iteration 200, loss = 0.8610\n",
            "Epoch 1, Iteration 300, loss = 0.9294\n",
            "Epoch 1, Iteration 400, loss = 0.7361\n",
            "Epoch 1, Iteration 500, loss = 0.8530\n",
            "Epoch 1, Iteration 600, loss = 0.7241\n",
            "Epoch 1, Iteration 700, loss = 0.7381\n",
            "Epoch 1, Iteration 800, loss = 0.7863\n",
            "validation accuracy on validation set: 69.1199951171875\n",
            "Epoch 2, Iteration 0, loss = 0.5380\n",
            "Epoch 2, Iteration 100, loss = 0.5695\n",
            "Epoch 2, Iteration 200, loss = 0.7983\n",
            "Epoch 2, Iteration 300, loss = 0.9339\n",
            "Epoch 2, Iteration 400, loss = 0.7674\n",
            "Epoch 2, Iteration 500, loss = 0.9281\n",
            "Epoch 2, Iteration 600, loss = 0.6460\n",
            "Epoch 2, Iteration 700, loss = 0.8245\n",
            "Epoch 2, Iteration 800, loss = 0.5248\n",
            "validation accuracy on validation set: 70.33999633789062\n",
            "Epoch 3, Iteration 0, loss = 0.5167\n",
            "Epoch 3, Iteration 100, loss = 0.7353\n",
            "Epoch 3, Iteration 200, loss = 0.7302\n",
            "Epoch 3, Iteration 300, loss = 0.8784\n",
            "Epoch 3, Iteration 400, loss = 0.6112\n",
            "Epoch 3, Iteration 500, loss = 0.5278\n",
            "Epoch 3, Iteration 600, loss = 0.6940\n",
            "Epoch 3, Iteration 700, loss = 0.6599\n",
            "Epoch 3, Iteration 800, loss = 0.6597\n",
            "validation accuracy on validation set: 72.37999725341797\n",
            "Epoch 4, Iteration 0, loss = 0.4469\n",
            "Epoch 4, Iteration 100, loss = 0.4801\n",
            "Epoch 4, Iteration 200, loss = 0.5271\n",
            "Epoch 4, Iteration 300, loss = 0.7250\n",
            "Epoch 4, Iteration 400, loss = 0.4168\n",
            "Epoch 4, Iteration 500, loss = 0.4098\n",
            "Epoch 4, Iteration 600, loss = 0.3511\n",
            "Epoch 4, Iteration 700, loss = 0.4146\n",
            "Epoch 4, Iteration 800, loss = 0.6267\n",
            "validation accuracy on validation set: 73.23999786376953\n",
            "Epoch 5, Iteration 0, loss = 0.3440\n",
            "Epoch 5, Iteration 100, loss = 0.4887\n",
            "Epoch 5, Iteration 200, loss = 0.3315\n",
            "Epoch 5, Iteration 300, loss = 0.5814\n",
            "Epoch 5, Iteration 400, loss = 0.4117\n",
            "Epoch 5, Iteration 500, loss = 0.5714\n",
            "Epoch 5, Iteration 600, loss = 0.4006\n",
            "Epoch 5, Iteration 700, loss = 0.6368\n",
            "Epoch 5, Iteration 800, loss = 0.4942\n",
            "validation accuracy on validation set: 74.36000061035156\n",
            "Epoch 6, Iteration 0, loss = 0.5012\n",
            "Epoch 6, Iteration 100, loss = 0.3314\n",
            "Epoch 6, Iteration 200, loss = 0.2638\n",
            "Epoch 6, Iteration 300, loss = 0.3174\n",
            "Epoch 6, Iteration 400, loss = 0.1225\n",
            "Epoch 6, Iteration 500, loss = 0.4253\n",
            "Epoch 6, Iteration 600, loss = 0.5029\n",
            "Epoch 6, Iteration 700, loss = 0.6099\n",
            "Epoch 6, Iteration 800, loss = 0.4093\n",
            "validation accuracy on validation set: 75.07999420166016\n",
            "Epoch 7, Iteration 0, loss = 0.3300\n",
            "Epoch 7, Iteration 100, loss = 0.2777\n",
            "Epoch 7, Iteration 200, loss = 0.3934\n",
            "Epoch 7, Iteration 300, loss = 0.2822\n",
            "Epoch 7, Iteration 400, loss = 0.3099\n",
            "Epoch 7, Iteration 500, loss = 0.3215\n",
            "Epoch 7, Iteration 600, loss = 0.2500\n",
            "Epoch 7, Iteration 700, loss = 0.3068\n",
            "Epoch 7, Iteration 800, loss = 0.2229\n",
            "validation accuracy on validation set: 76.23999786376953\n",
            "Epoch 8, Iteration 0, loss = 0.3749\n",
            "Epoch 8, Iteration 100, loss = 0.1784\n",
            "Epoch 8, Iteration 200, loss = 0.1619\n",
            "Epoch 8, Iteration 300, loss = 0.2049\n",
            "Epoch 8, Iteration 400, loss = 0.1608\n",
            "Epoch 8, Iteration 500, loss = 0.3719\n",
            "Epoch 8, Iteration 600, loss = 0.1769\n",
            "Epoch 8, Iteration 700, loss = 0.3670\n",
            "Epoch 8, Iteration 800, loss = 0.3197\n",
            "validation accuracy on validation set: 74.2199935913086\n",
            "EARLY STOP DUE TO DECREASED VALIDATION ACCURACY: STOPPED TRAINING AT EPOCH 8\n",
            "best model validation accuracy: 76.23999786376953\n"
          ]
        }
      ],
      "source": [
        "cifarNet1 = CifarNet()\n",
        "optimizer = optim.Adam(cifarNet1.parameters(), lr = 0.0005, betas=(0.9,0.999))\n",
        "\n",
        "# Train model on training data and save parameters as cifar_model.pth\n",
        "# Early stopping at around epoch 7, roughly 73.8% accuracy\n",
        "train(cifar_train_data_loader, cifar_val_data_loader, cifarNet1, optimizer, model_name=\"cifar_model\", epochs=100)"
      ]
    },
    {
      "cell_type": "code",
      "execution_count": 129,
      "metadata": {},
      "outputs": [
        {
          "name": "stdout",
          "output_type": "stream",
          "text": [
            "Eval 7458 / 10000 correct (74.58)\n"
          ]
        }
      ],
      "source": [
        "# Load model and test it on the testing set\n",
        "test(cifar_test_data_loader, cifarNet1, \"cifar_model\")"
      ]
    },
    {
      "cell_type": "code",
      "execution_count": 130,
      "metadata": {
        "id": "wxvtO5oQGctE"
      },
      "outputs": [
        {
          "name": "stdout",
          "output_type": "stream",
          "text": [
            "cuda:0\n",
            "Epoch 0, Iteration 0, loss = 2.4462\n",
            "Epoch 0, Iteration 100, loss = 0.3548\n",
            "Epoch 0, Iteration 200, loss = 0.2702\n",
            "Epoch 0, Iteration 300, loss = 0.5235\n",
            "Epoch 0, Iteration 400, loss = 0.2706\n",
            "Epoch 0, Iteration 500, loss = 0.1571\n",
            "Epoch 0, Iteration 600, loss = 0.2509\n",
            "Epoch 0, Iteration 700, loss = 0.1804\n",
            "Epoch 0, Iteration 800, loss = 0.1652\n",
            "Epoch 0, Iteration 900, loss = 0.2449\n",
            "Epoch 0, Iteration 1000, loss = 0.0443\n",
            "validation accuracy on validation set: 95.83999633789062\n",
            "Epoch 1, Iteration 0, loss = 0.1072\n",
            "Epoch 1, Iteration 100, loss = 0.1196\n",
            "Epoch 1, Iteration 200, loss = 0.1973\n",
            "Epoch 1, Iteration 300, loss = 0.1421\n",
            "Epoch 1, Iteration 400, loss = 0.1547\n",
            "Epoch 1, Iteration 500, loss = 0.0458\n",
            "Epoch 1, Iteration 600, loss = 0.0789\n",
            "Epoch 1, Iteration 700, loss = 0.0752\n",
            "Epoch 1, Iteration 800, loss = 0.0591\n",
            "Epoch 1, Iteration 900, loss = 0.0220\n",
            "Epoch 1, Iteration 1000, loss = 0.0871\n",
            "validation accuracy on validation set: 97.22999572753906\n",
            "Epoch 2, Iteration 0, loss = 0.0406\n",
            "Epoch 2, Iteration 100, loss = 0.0164\n",
            "Epoch 2, Iteration 200, loss = 0.3141\n",
            "Epoch 2, Iteration 300, loss = 0.0427\n",
            "Epoch 2, Iteration 400, loss = 0.1070\n",
            "Epoch 2, Iteration 500, loss = 0.0342\n",
            "Epoch 2, Iteration 600, loss = 0.1611\n",
            "Epoch 2, Iteration 700, loss = 0.0881\n",
            "Epoch 2, Iteration 800, loss = 0.0376\n",
            "Epoch 2, Iteration 900, loss = 0.1544\n",
            "Epoch 2, Iteration 1000, loss = 0.0678\n",
            "validation accuracy on validation set: 97.6199951171875\n",
            "Epoch 3, Iteration 0, loss = 0.2426\n",
            "Epoch 3, Iteration 100, loss = 0.1413\n",
            "Epoch 3, Iteration 200, loss = 0.0491\n",
            "Epoch 3, Iteration 300, loss = 0.1139\n",
            "Epoch 3, Iteration 400, loss = 0.0800\n",
            "Epoch 3, Iteration 500, loss = 0.1011\n",
            "Epoch 3, Iteration 600, loss = 0.0130\n",
            "Epoch 3, Iteration 700, loss = 0.0431\n",
            "Epoch 3, Iteration 800, loss = 0.0426\n",
            "Epoch 3, Iteration 900, loss = 0.0604\n",
            "Epoch 3, Iteration 1000, loss = 0.0630\n",
            "validation accuracy on validation set: 97.75\n",
            "Epoch 4, Iteration 0, loss = 0.0534\n",
            "Epoch 4, Iteration 100, loss = 0.0410\n",
            "Epoch 4, Iteration 200, loss = 0.0602\n",
            "Epoch 4, Iteration 300, loss = 0.0429\n",
            "Epoch 4, Iteration 400, loss = 0.1116\n",
            "Epoch 4, Iteration 500, loss = 0.1369\n",
            "Epoch 4, Iteration 600, loss = 0.0080\n",
            "Epoch 4, Iteration 700, loss = 0.0685\n",
            "Epoch 4, Iteration 800, loss = 0.1083\n",
            "Epoch 4, Iteration 900, loss = 0.0522\n",
            "Epoch 4, Iteration 1000, loss = 0.2170\n",
            "validation accuracy on validation set: 97.87999725341797\n",
            "Epoch 5, Iteration 0, loss = 0.0206\n",
            "Epoch 5, Iteration 100, loss = 0.1271\n",
            "Epoch 5, Iteration 200, loss = 0.0203\n",
            "Epoch 5, Iteration 300, loss = 0.1915\n",
            "Epoch 5, Iteration 400, loss = 0.0123\n",
            "Epoch 5, Iteration 500, loss = 0.0088\n",
            "Epoch 5, Iteration 600, loss = 0.0215\n",
            "Epoch 5, Iteration 700, loss = 0.0737\n",
            "Epoch 5, Iteration 800, loss = 0.0583\n",
            "Epoch 5, Iteration 900, loss = 0.0711\n",
            "Epoch 5, Iteration 1000, loss = 0.0602\n",
            "validation accuracy on validation set: 97.89999389648438\n",
            "Epoch 6, Iteration 0, loss = 0.0625\n",
            "Epoch 6, Iteration 100, loss = 0.0104\n",
            "Epoch 6, Iteration 200, loss = 0.0301\n",
            "Epoch 6, Iteration 300, loss = 0.0865\n",
            "Epoch 6, Iteration 400, loss = 0.1488\n",
            "Epoch 6, Iteration 500, loss = 0.1239\n",
            "Epoch 6, Iteration 600, loss = 0.0792\n",
            "Epoch 6, Iteration 700, loss = 0.0727\n",
            "Epoch 6, Iteration 800, loss = 0.0408\n",
            "Epoch 6, Iteration 900, loss = 0.0149\n",
            "Epoch 6, Iteration 1000, loss = 0.0019\n",
            "validation accuracy on validation set: 97.97999572753906\n",
            "Epoch 7, Iteration 0, loss = 0.0257\n",
            "Epoch 7, Iteration 100, loss = 0.1203\n",
            "Epoch 7, Iteration 200, loss = 0.0193\n",
            "Epoch 7, Iteration 300, loss = 0.0131\n",
            "Epoch 7, Iteration 400, loss = 0.0364\n",
            "Epoch 7, Iteration 500, loss = 0.0209\n",
            "Epoch 7, Iteration 600, loss = 0.0292\n",
            "Epoch 7, Iteration 700, loss = 0.0529\n",
            "Epoch 7, Iteration 800, loss = 0.0192\n",
            "Epoch 7, Iteration 900, loss = 0.0412\n",
            "Epoch 7, Iteration 1000, loss = 0.0600\n",
            "validation accuracy on validation set: 97.80999755859375\n",
            "EARLY STOP DUE TO DECREASED VALIDATION ACCURACY: STOPPED TRAINING AT EPOCH 7\n",
            "best model validation accuracy: 97.97999572753906\n"
          ]
        }
      ],
      "source": [
        "mnistNet1 = MnistNet()\n",
        "# Using Adam optimizer with suggested parameters from class, learning rate = 0.001, betas = 0.9, 0.999\n",
        "optimizer = optim.Adam(mnistNet1.parameters(), lr = 0.0005, betas=(0.9,0.999))\n",
        "\n",
        "# Train model on training data and save parameters as mnist_model.pth\n",
        "# Early stopping at around epoch 5, roughly 97.8% accuracy\n",
        "train(mnist_train_data_loader, mnist_test_data_loader, mnistNet1, optimizer, model_name = \"mnist_model\", epochs= 100)\n"
      ]
    },
    {
      "cell_type": "code",
      "execution_count": 131,
      "metadata": {},
      "outputs": [
        {
          "name": "stdout",
          "output_type": "stream",
          "text": [
            "Eval 9781 / 10000 correct (97.81)\n"
          ]
        }
      ],
      "source": [
        "# Load model and test it on the testing set\n",
        "test(mnist_test_data_loader, mnistNet1, \"mnist_model\")"
      ]
    }
  ],
  "metadata": {
    "colab": {
      "provenance": [],
      "toc_visible": true
    },
    "kernelspec": {
      "display_name": "Python 3",
      "name": "python3"
    },
    "language_info": {
      "codemirror_mode": {
        "name": "ipython",
        "version": 3
      },
      "file_extension": ".py",
      "mimetype": "text/x-python",
      "name": "python",
      "nbconvert_exporter": "python",
      "pygments_lexer": "ipython3",
      "version": "3.11.4"
    }
  },
  "nbformat": 4,
  "nbformat_minor": 0
}

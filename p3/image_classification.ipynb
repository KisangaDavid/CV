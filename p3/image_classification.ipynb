{
  "cells": [
    {
      "cell_type": "markdown",
      "metadata": {
        "id": "PgO0k03dlZ-T"
      },
      "source": [
        "# Introduction\n",
        "\n",
        "\n",
        "In this assignment, you will practice building and training Convolutional Neural Networks with Pytorch to solve computer vision tasks.  This assignment includes two sections, each involving different tasks:\n",
        "\n",
        "(1) Image Classification. Predict image-level category labels on two historically notable image datasets: **CIFAR-10** and **MNIST**.\n",
        "\n",
        "(2) Image Segmentation. Predict pixel-wise classification (semantic segmentation) on synthetic input images formed by superimposing MNIST images on top of CIFAR images.\n",
        "\n",
        "You will design your own models in each section and build the entire training/testing pipeline with PyTorch. \n",
        "PyTorch provides optimized implementations of the building blocks and additional utilities, both of which will be necessary for experiments on real datasets. It is highly recommended to read the official [documentation](https://pytorch.org/docs/stable/index.html) and [examples](https://pytorch.org/tutorials/beginner/blitz/cifar10_tutorial.html) before starting your implementation. There are some APIs that you'll find useful:\n",
        "[Layers](http://pytorch.org/docs/stable/nn.html),\n",
        "[Activations](https://pytorch.org/docs/stable/nn.html#non-linear-activations-weighted-sum-nonlinearity),\n",
        "[Loss functions](http://pytorch.org/docs/stable/nn.html#loss-functions),\n",
        "[Optimizers](http://pytorch.org/docs/stable/optim.html)\n",
        "\n",
        "It is highly recommended to use Google Colab and run the notebook on a GPU node. Check https://colab.research.google.com/ and look for tutorials online. To use a GPU go to Runtime -> Change runtime type and select GPU. \n",
        "\n",
        "\n",
        "\n",
        "\n"
      ]
    },
    {
      "cell_type": "markdown",
      "metadata": {
        "id": "b5lueGqqw6sR"
      },
      "source": [
        "# (1) Image Classification\n",
        "\n",
        "In this section, you will design and train an image classification network, which takes images as input and outputs vectors whose length equals the number of possible categories on **MNIST** and **CIFAR-10** datasets. \n",
        "\n",
        "You can design your models by borrowing ideas from recent architectures, e.g., ResNet, but you may not simply copy an entire existing model. \n",
        "\n",
        "For image classification, you can use a built-in dataset provided by [torchvision](https://pytorch.org/vision/stable/index.html), a PyTorch official extension for image tasks. \n",
        "\n",
        "To finish this section step by step, you need to:\n",
        "\n",
        "* Prepare data by building a dataset and dataloader. (with [torchvision](https://pytorch.org/vision/stable/index.html))\n",
        "\n",
        "* Implement training code (6 points) & testing code (6 points), including model saving and loading.\n",
        "\n",
        "* Construct a model (12 points) and choose an optimizer (3 points).\n",
        "\n",
        "* Describe what you did, any additional features you implemented, and/or any graphs you made in training and evaluating your network. Also report final test accuracy @100 epochs in a writeup: hw3.pdf (3 points)"
      ]
    },
    {
      "cell_type": "code",
      "execution_count": 1,
      "metadata": {
        "id": "2nAlwqqFzLfU"
      },
      "outputs": [],
      "source": [
        "import numpy as np\n",
        "import os\n",
        "import math\n",
        "import torch\n",
        "import torch.nn as nn\n",
        "import torch.nn.functional as F\n",
        "import torch.optim as optim\n",
        "from torch.utils.data import DataLoader\n",
        "from torch.utils.data import sampler\n",
        "import torchvision\n",
        "import torchvision.transforms as T\n"
      ]
    },
    {
      "cell_type": "markdown",
      "metadata": {
        "id": "QpFf3VOO1bT1"
      },
      "source": [
        "## Data Preparation:\n",
        "\n",
        "Setup a Dataset for training and testing.\n",
        "\n",
        "Datasets load single training examples one a time, so we practically wrap each Dataset in a DataLoader, which loads a data batch in parallel.\n",
        "\n",
        "We provide an example for setting up a training set for MNIST, and you should complete the rest. "
      ]
    },
    {
      "cell_type": "code",
      "execution_count": 40,
      "metadata": {
        "id": "R_6rGLHwzMxp"
      },
      "outputs": [
        {
          "name": "stdout",
          "output_type": "stream",
          "text": [
            "Dataset MNIST\n",
            "    Number of datapoints: 60000\n",
            "    Root location: ./data\n",
            "    Split: Train\n",
            "    StandardTransform\n",
            "Transform: ToTensor()\n",
            "Dataset MNIST\n",
            "    Number of datapoints: 10000\n",
            "    Root location: ./data\n",
            "    Split: Test\n",
            "    StandardTransform\n",
            "Transform: ToTensor()\n"
          ]
        }
      ],
      "source": [
        "mnist_train = torchvision.datasets.MNIST('./data', train = True, download = True, transform = T.ToTensor())\n",
        "mnist_train_data_loader = torch.utils.data.DataLoader(mnist_train,\n",
        "                                          batch_size=400,\n",
        "                                          shuffle=True,\n",
        "                                          num_workers=2)\n",
        "\n",
        "mnist_test = torchvision.datasets.MNIST(\"./data\", train = False, download = True, transform = T.ToTensor())\n",
        "mnist_test_data_loader = torch.utils.data.DataLoader(mnist_test,\n",
        "                                          batch_size=400,\n",
        "                                          shuffle=True,\n",
        "                                          num_workers=2)\n",
        "print(mnist_train)\n",
        "print(mnist_test)\n",
        "##########################################################################\n",
        "# TODO: YOUR CODE HERE\n",
        "# (1) Instantiate the train/test split for CIFAR-10 and MNIST\n",
        "# (2) You can adjust the batch size and number of works for better efficiency\n",
        "# (3) Remember to set shuffle=True for all training set \n",
        "##########################################################################"
      ]
    },
    {
      "cell_type": "markdown",
      "metadata": {
        "id": "58GUecr83BmH"
      },
      "source": [
        "## Design/choose your own model structure (12 points) and optimizer (3 points).\n",
        "You might want to adjust the following configurations for better performance:\n",
        "\n",
        "(1) Network architecture:\n",
        "- You can borrow some ideas from existing CNN designs, e.g., ResNet where\n",
        "the input from the previous layer is added to the output\n",
        "https://arxiv.org/abs/1512.03385\n",
        "- Note: Do not **directly copy** an entire existing network design.\n",
        "\n",
        "(2) Architecture hyperparameters:\n",
        "- Filter size, number of filters, and number of layers (depth). Make careful choices to tradeoff computational efficiency and accuracy.\n",
        "- Pooling vs. Strided Convolution\n",
        "- Batch normalization\n",
        "- Choice of non-linear activation\n",
        "\n",
        "(3) Choice of optimizer (e.g., SGD, Adam, Adagrad, RMSprop) and associated hyperparameters (e.g., learning rate, momentum)."
      ]
    },
    {
      "cell_type": "code",
      "execution_count": 41,
      "metadata": {
        "id": "4ZA5kw3X3qLy"
      },
      "outputs": [
        {
          "name": "stdout",
          "output_type": "stream",
          "text": [
            "Adam (\n",
            "Parameter Group 0\n",
            "    amsgrad: False\n",
            "    betas: (0.9, 0.999)\n",
            "    capturable: False\n",
            "    differentiable: False\n",
            "    eps: 1e-08\n",
            "    foreach: None\n",
            "    fused: None\n",
            "    lr: 0.001\n",
            "    maximize: False\n",
            "    weight_decay: 0\n",
            ")\n"
          ]
        }
      ],
      "source": [
        "#Basic model, feel free to customize the layout to fit your model design.\n",
        "\n",
        "##########################################################################\n",
        "# TODO: YOUR CODE HERE\n",
        "# (1) Design the model for MNIST\n",
        "# (2) Design the model for CIFAR-10\n",
        "##########################################################################\n",
        "\n",
        "# model with 1 convolution layer \n",
        "class MnistNet(nn.Module):\n",
        "    def __init__(self):\n",
        "        super(MnistNet, self).__init__()\n",
        "        # Should add more layers and max pool after activating\n",
        "        self.convlayer1 = nn.Sequential(nn.Conv2d(in_channels = 1, out_channels = 16, kernel_size=3, stride=1, padding=1), nn.ReLU())\n",
        "        self.out = nn.Linear(28*28*16, 10)\n",
        "\n",
        "\n",
        "    def forward(self, x):\n",
        "        x = self.convlayer1(x)\n",
        "        x = x.view(x.size(0), -1)\n",
        "        out = self.out(x)\n",
        "        return out\n",
        "mnistNet1 = MnistNet()\n",
        "optimizer = optim.Adam(mnistNet1.parameters(), lr = 0.001, betas=(0.9,0.999))\n",
        "print(optimizer)\n"
      ]
    },
    {
      "cell_type": "markdown",
      "metadata": {
        "id": "MOuB58GA5W_C"
      },
      "source": [
        "## Training (6 points)\n",
        "\n",
        "Train a model on the given dataset using the PyTorch Module API.\n",
        "\n",
        "Inputs:\n",
        "- loader_train: The loader from which train samples will be drawn from.\n",
        "- loader_test: The loader from which test samples will be drawn from.\n",
        "- model: A PyTorch Module giving the model to train.\n",
        "- optimizer: An Optimizer object we will use to train the model.\n",
        "- epochs: (Optional) A Python integer giving the number of epochs to train for.\n",
        "\n",
        "Returns: Nothing, but prints model accuracies during training."
      ]
    },
    {
      "cell_type": "code",
      "execution_count": 42,
      "metadata": {
        "id": "0Kx_q5rv5ddg"
      },
      "outputs": [
        {
          "name": "stdout",
          "output_type": "stream",
          "text": [
            "cpu\n",
            "Epoch 0, Iteration 0, loss = 2.2983\n",
            "Epoch 0, Iteration 100, loss = 0.2012\n"
          ]
        }
      ],
      "source": [
        "def train(loader_train, model, optimizer, epochs=100):\n",
        "\n",
        "    # Working locally on laptop and desktop, sometimes no gpu available. Device is gpu if gpu is available, cpu otherwise\n",
        "    device = torch.device(\"cuda:0\" if torch.cuda.is_available() else \"cpu\")\n",
        "    print(device)\n",
        "    model = model.to(device)\n",
        "    criterion = nn.CrossEntropyLoss()\n",
        "    \n",
        "    # TODO Improvement idea: test on loader_test and stop if early stoppage\n",
        "    for e in range(epochs):\n",
        "        model.train()\n",
        "        for t, (x, y) in enumerate(loader_train):\n",
        "            x = x.to(device)\n",
        "            y = y.to(device)\n",
        "            outputs = model(x)\n",
        "            loss = criterion(outputs, y)\n",
        "            optimizer.zero_grad()\n",
        "            loss.backward()\n",
        "            optimizer.step()\n",
        "            ##########################################################################\n",
        "            # TODO: YOUR CODE HERE\n",
        "            # (1) move data to GPU DONE\n",
        "            # (2) forward and get loss\n",
        "            # (3) zero out all of the gradients for the variables which the optimizer\n",
        "            # will update.\n",
        "            # (4) the backwards pass: compute the gradient of the loss with\n",
        "            # respect to each  parameter of the model.\n",
        "            # (5) update the parameters of the model using the gradients\n",
        "            # computed by the backwards pass.\n",
        "            ##########################################################################\n",
        "            if t % 100 == 0:\n",
        "                print('Epoch %d, Iteration %d, loss = %.4f' % (e, t, loss.item()))\n",
        "train(mnist_train_data_loader, mnistNet1, optimizer, epochs= 1)"
      ]
    },
    {
      "cell_type": "markdown",
      "metadata": {
        "id": "bdxEMZpC6E9K"
      },
      "source": [
        "## Testing (6 points)\n",
        "Test a model using the PyTorch Module API.\n",
        "\n",
        "Inputs:\n",
        "- loader: The loader from which test samples will be drawn from.\n",
        "- model: A PyTorch Module giving the model to test.\n",
        "\n",
        "Returns: Nothing, but prints model accuracies during training."
      ]
    },
    {
      "cell_type": "code",
      "execution_count": 43,
      "metadata": {
        "id": "KA5YBjxx6IeF"
      },
      "outputs": [
        {
          "name": "stdout",
          "output_type": "stream",
          "text": [
            "num_samples: 400\n",
            "num_correct: 376\n",
            "num_samples: 800\n",
            "num_correct: 753\n",
            "num_samples: 1200\n",
            "num_correct: 1120\n",
            "num_samples: 1600\n",
            "num_correct: 1490\n",
            "num_samples: 2000\n",
            "num_correct: 1865\n",
            "num_samples: 2400\n",
            "num_correct: 2247\n",
            "num_samples: 2800\n",
            "num_correct: 2621\n",
            "num_samples: 3200\n",
            "num_correct: 3004\n",
            "num_samples: 3600\n",
            "num_correct: 3377\n",
            "num_samples: 4000\n",
            "num_correct: 3750\n",
            "num_samples: 4400\n",
            "num_correct: 4129\n",
            "num_samples: 4800\n",
            "num_correct: 4504\n",
            "num_samples: 5200\n",
            "num_correct: 4878\n",
            "num_samples: 5600\n",
            "num_correct: 5257\n",
            "num_samples: 6000\n",
            "num_correct: 5633\n",
            "num_samples: 6400\n",
            "num_correct: 6006\n",
            "num_samples: 6800\n",
            "num_correct: 6379\n",
            "num_samples: 7200\n",
            "num_correct: 6759\n",
            "num_samples: 7600\n",
            "num_correct: 7141\n",
            "num_samples: 8000\n",
            "num_correct: 7510\n",
            "num_samples: 8400\n",
            "num_correct: 7890\n",
            "num_samples: 8800\n",
            "num_correct: 8268\n",
            "num_samples: 9200\n",
            "num_correct: 8647\n",
            "num_samples: 9600\n",
            "num_correct: 9020\n",
            "num_samples: 10000\n",
            "num_correct: 9394\n",
            "Eval 9394 / 10000 correct (93.94)\n"
          ]
        }
      ],
      "source": [
        "def test(loader, model):\n",
        "    num_correct = 0\n",
        "    num_samples = 0\n",
        "    model.eval() # set model to evaluation mode\n",
        "    device = torch.device(\"cuda:0\" if torch.cuda.is_available() else \"cpu\")\n",
        "    model.to(device)\n",
        "    with torch.no_grad():\n",
        "        for x, y in loader:\n",
        "            x = x.to(device)\n",
        "            y = y.to(device)\n",
        "            num_samples += x.size()[0]\n",
        "           # print(f\"labels (y) are: {y}\")\n",
        "            outputs = torch.argmax(model(x),1)\n",
        "            num_correct += (outputs == y).sum()\n",
        "            print(f\"num_samples: {num_samples}\")\n",
        "            print(f\"num_correct: {num_correct}\")\n",
        "           # print(f\"ouptuts are: {outputs}\")\n",
        "            ##########################################################################\n",
        "            # TODO: YOUR CODE HERE\n",
        "            # (1) move to GPU DONE\n",
        "            # (2) forward and calculate scores and predictions\n",
        "            # (2) accumulate num_correct and num_samples\n",
        "            ##########################################################################\n",
        "    acc = num_correct / num_samples\n",
        "    print('Eval %d / %d correct (%.2f)' % (num_correct, num_samples, 100 * acc))\n",
        "test(mnist_test_data_loader, mnistNet1)"
      ]
    },
    {
      "cell_type": "markdown",
      "metadata": {
        "id": "omwoZPA26V-a"
      },
      "source": [
        "Describe your design details in the writeup hw3.pdf. (3 points)\n",
        "\n",
        "Finish your model and optimizer below."
      ]
    },
    {
      "cell_type": "code",
      "execution_count": null,
      "metadata": {
        "id": "jM6GIIFP6XhG"
      },
      "outputs": [],
      "source": [
        "model = CIFAR10_models()\n",
        "optimizer = optim.SGD(model.parameters(), lr, momentum, weight_decay)\n",
        "train(cifar10_loader_train, cifar10_loader_test, model, optimizer, epochs=100)"
      ]
    },
    {
      "cell_type": "code",
      "execution_count": null,
      "metadata": {
        "id": "wxvtO5oQGctE"
      },
      "outputs": [],
      "source": [
        "model = MNIST_models()\n",
        "optimizer = optim.SGD(model.parameters(), lr, momentum, weight_decay)\n",
        "train(mnist_loader_train, mnist_loader_test, model, optimizer, epochs=100)"
      ]
    }
  ],
  "metadata": {
    "colab": {
      "provenance": [],
      "toc_visible": true
    },
    "kernelspec": {
      "display_name": "Python 3",
      "name": "python3"
    },
    "language_info": {
      "codemirror_mode": {
        "name": "ipython",
        "version": 3
      },
      "file_extension": ".py",
      "mimetype": "text/x-python",
      "name": "python",
      "nbconvert_exporter": "python",
      "pygments_lexer": "ipython3",
      "version": "3.10.5"
    }
  },
  "nbformat": 4,
  "nbformat_minor": 0
}

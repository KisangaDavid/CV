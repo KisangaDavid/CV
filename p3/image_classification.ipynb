{
  "cells": [
    {
      "cell_type": "markdown",
      "metadata": {
        "id": "PgO0k03dlZ-T"
      },
      "source": [
        "# Introduction\n",
        "\n",
        "\n",
        "In this assignment, you will practice building and training Convolutional Neural Networks with Pytorch to solve computer vision tasks.  This assignment includes two sections, each involving different tasks:\n",
        "\n",
        "(1) Image Classification. Predict image-level category labels on two historically notable image datasets: **CIFAR-10** and **MNIST**.\n",
        "\n",
        "(2) Image Segmentation. Predict pixel-wise classification (semantic segmentation) on synthetic input images formed by superimposing MNIST images on top of CIFAR images.\n",
        "\n",
        "You will design your own models in each section and build the entire training/testing pipeline with PyTorch. \n",
        "PyTorch provides optimized implementations of the building blocks and additional utilities, both of which will be necessary for experiments on real datasets. It is highly recommended to read the official [documentation](https://pytorch.org/docs/stable/index.html) and [examples](https://pytorch.org/tutorials/beginner/blitz/cifar10_tutorial.html) before starting your implementation. There are some APIs that you'll find useful:\n",
        "[Layers](http://pytorch.org/docs/stable/nn.html),\n",
        "[Activations](https://pytorch.org/docs/stable/nn.html#non-linear-activations-weighted-sum-nonlinearity),\n",
        "[Loss functions](http://pytorch.org/docs/stable/nn.html#loss-functions),\n",
        "[Optimizers](http://pytorch.org/docs/stable/optim.html)\n",
        "\n",
        "It is highly recommended to use Google Colab and run the notebook on a GPU node. Check https://colab.research.google.com/ and look for tutorials online. To use a GPU go to Runtime -> Change runtime type and select GPU. \n",
        "\n",
        "\n",
        "\n",
        "\n"
      ]
    },
    {
      "cell_type": "markdown",
      "metadata": {
        "id": "b5lueGqqw6sR"
      },
      "source": [
        "# (1) Image Classification\n",
        "\n",
        "In this section, you will design and train an image classification network, which takes images as input and outputs vectors whose length equals the number of possible categories on **MNIST** and **CIFAR-10** datasets. \n",
        "\n",
        "You can design your models by borrowing ideas from recent architectures, e.g., ResNet, but you may not simply copy an entire existing model. \n",
        "\n",
        "For image classification, you can use a built-in dataset provided by [torchvision](https://pytorch.org/vision/stable/index.html), a PyTorch official extension for image tasks. \n",
        "\n",
        "To finish this section step by step, you need to:\n",
        "\n",
        "* Prepare data by building a dataset and dataloader. (with [torchvision](https://pytorch.org/vision/stable/index.html))\n",
        "\n",
        "* Implement training code (6 points) & testing code (6 points), including model saving and loading.\n",
        "\n",
        "* Construct a model (12 points) and choose an optimizer (3 points).\n",
        "\n",
        "* Describe what you did, any additional features you implemented, and/or any graphs you made in training and evaluating your network. Also report final test accuracy @100 epochs in a writeup: hw3.pdf (3 points)"
      ]
    },
    {
      "cell_type": "code",
      "execution_count": 106,
      "metadata": {
        "id": "2nAlwqqFzLfU"
      },
      "outputs": [],
      "source": [
        "import numpy as np\n",
        "import os\n",
        "import math\n",
        "import torch\n",
        "import torch.nn as nn\n",
        "import torch.nn.functional as F\n",
        "import torch.optim as optim\n",
        "from torch.utils.data import DataLoader\n",
        "from torch.utils.data import sampler\n",
        "from torch.utils.data import random_split\n",
        "import torchvision\n",
        "import torchvision.transforms as T\n"
      ]
    },
    {
      "cell_type": "markdown",
      "metadata": {
        "id": "QpFf3VOO1bT1"
      },
      "source": [
        "## Data Preparation:\n",
        "\n",
        "Setup a Dataset for training and testing.\n",
        "\n",
        "Datasets load single training examples one a time, so we practically wrap each Dataset in a DataLoader, which loads a data batch in parallel.\n",
        "\n",
        "We provide an example for setting up a training set for MNIST, and you should complete the rest. "
      ]
    },
    {
      "cell_type": "code",
      "execution_count": 107,
      "metadata": {
        "id": "R_6rGLHwzMxp"
      },
      "outputs": [
        {
          "name": "stdout",
          "output_type": "stream",
          "text": [
            "Files already downloaded and verified\n",
            "Files already downloaded and verified\n"
          ]
        }
      ],
      "source": [
        "# Setting up MNIST data loaders\n",
        "mnist_train = torchvision.datasets.MNIST('./data', train = True, download = True, transform = T.ToTensor())\n",
        "mnist_train, mnist_val = random_split(mnist_train, [int(0.9 * len(mnist_train)), int(0.1 * len(mnist_train))])\n",
        "\n",
        "mnist_train_data_loader = torch.utils.data.DataLoader(mnist_train,\n",
        "                                          batch_size=50,\n",
        "                                          shuffle=True,\n",
        "                                          num_workers=2)\n",
        "\n",
        "mnist_val_data_loader = torch.utils.data.DataLoader(mnist_val,\n",
        "                                          batch_size=50,\n",
        "                                          shuffle=True,\n",
        "                                          num_workers=2)\n",
        "\n",
        "mnist_test = torchvision.datasets.MNIST(\"./data\", train = False, download = True, transform = T.ToTensor())\n",
        "mnist_test_data_loader = torch.utils.data.DataLoader(mnist_test,\n",
        "                                          batch_size=50,\n",
        "                                          shuffle=True,\n",
        "                                          num_workers=2)\n",
        "\n",
        "# Setting up CIFAR10 data loaders\n",
        "cifar_train = torchvision.datasets.CIFAR10('./data', train = True, download = True, transform = T.ToTensor())\n",
        "cifar_train, cifar_val = random_split(cifar_train, [int(0.9 * len(cifar_train)), int(0.1 * len(cifar_train))])\n",
        "\n",
        "cifar_train_data_loader = torch.utils.data.DataLoader(cifar_train,\n",
        "                                          batch_size=50,\n",
        "                                          shuffle=True,\n",
        "                                          num_workers=2)\n",
        "\n",
        "cifar_val_data_loader = torch.utils.data.DataLoader(cifar_val,\n",
        "                                          batch_size=50,\n",
        "                                          shuffle=True,\n",
        "                                          num_workers=2)\n",
        "\n",
        "cifar_test = torchvision.datasets.CIFAR10(\"./data\", train = False, download = True, transform = T.ToTensor())\n",
        "cifar_test_data_loader = torch.utils.data.DataLoader(cifar_test,\n",
        "                                          batch_size=50,\n",
        "                                          shuffle=True,\n",
        "                                          num_workers=2)\n",
        "\n"
      ]
    },
    {
      "cell_type": "markdown",
      "metadata": {
        "id": "58GUecr83BmH"
      },
      "source": [
        "## Design/choose your own model structure (12 points) and optimizer (3 points).\n",
        "You might want to adjust the following configurations for better performance:\n",
        "\n",
        "(1) Network architecture:\n",
        "- You can borrow some ideas from existing CNN designs, e.g., ResNet where\n",
        "the input from the previous layer is added to the output\n",
        "https://arxiv.org/abs/1512.03385\n",
        "- Note: Do not **directly copy** an entire existing network design.\n",
        "\n",
        "(2) Architecture hyperparameters:\n",
        "- Filter size, number of filters, and number of layers (depth). Make careful choices to tradeoff computational efficiency and accuracy.\n",
        "- Pooling vs. Strided Convolution\n",
        "- Batch normalization\n",
        "- Choice of non-linear activation\n",
        "\n",
        "(3) Choice of optimizer (e.g., SGD, Adam, Adagrad, RMSprop) and associated hyperparameters (e.g., learning rate, momentum)."
      ]
    },
    {
      "cell_type": "code",
      "execution_count": 108,
      "metadata": {
        "id": "4ZA5kw3X3qLy"
      },
      "outputs": [],
      "source": [
        "#Basic model, feel free to customize the layout to fit your model design.\n",
        "\n",
        "##########################################################################\n",
        "# TODO: YOUR CODE HERE\n",
        "# (1) Design the model for MNIST\n",
        "# (2) Design the model for CIFAR-10\n",
        "##########################################################################\n",
        "\n",
        "# model with 1 convolution layer \n",
        "class MnistNet(nn.Module):\n",
        "    def __init__(self):\n",
        "        super(MnistNet, self).__init__()\n",
        "        # Can add more layers and max pool after activating\n",
        "        self.convLayers = nn.Sequential(nn.Conv2d(in_channels = 1, out_channels = 16, kernel_size=3, stride=1, padding=1), nn.BatchNorm2d(16), nn.ReLU(), nn.MaxPool2d(2))\n",
        "        self.out = nn.Linear(14*14*16, 10)\n",
        "\n",
        "\n",
        "    def forward(self, x):\n",
        "        x = self.convLayers(x)\n",
        "        x = x.view(x.size(0), -1)\n",
        "        out = self.out(x)\n",
        "        return out\n",
        "\n",
        "class CifarNet(nn.Module):\n",
        "    def __init__(self):\n",
        "        super(CifarNet, self).__init__()\n",
        "        # Add batch normalization?\n",
        "        self.convLayers = nn.Sequential(\n",
        "            nn.Conv2d(in_channels = 3, out_channels = 8, kernel_size=3, stride=1, padding=1), \n",
        "            nn.ReLU(), \n",
        "            nn.Conv2d(in_channels = 8, out_channels = 16, kernel_size = 3, stride = 1, padding = 1),\n",
        "            nn.BatchNorm2d(16),\n",
        "            nn.ReLU(), \n",
        "            nn.MaxPool2d(2),\n",
        "\n",
        "            nn.Conv2d(in_channels = 16, out_channels = 32, kernel_size=3, stride=1, padding=1),\n",
        "            nn.ReLU(),\n",
        "            nn.Conv2d(in_channels = 32, out_channels = 32, kernel_size=3, stride=1, padding=1),\n",
        "            nn.BatchNorm2d(32),\n",
        "            nn.ReLU(),\n",
        "            nn.MaxPool2d(2)\n",
        "\n",
        "\n",
        "            )\n",
        "        self.out = nn.Sequential(\n",
        "            nn.Linear(8*8*32, 512),\n",
        "            nn.ReLU(),\n",
        "            nn.Linear(512, 10)\n",
        "        )\n",
        "\n",
        "\n",
        "    def forward(self, x):\n",
        "        x = self.convLayers(x)\n",
        "        x = x.view(x.size(0), -1)\n",
        "        out = self.out(x)\n",
        "        return out\n",
        "\n",
        "# Using Adam optimizer with suggested parameters from class, learning rate = 0.001, betas = 0.9, 0.999. Initialized in the last code block, shown below just for completeness\n",
        "### optimizer = optim.Adam(mnistNet1.parameters(), lr = 0.001, betas=(0.9,0.999))\n"
      ]
    },
    {
      "cell_type": "markdown",
      "metadata": {
        "id": "MOuB58GA5W_C"
      },
      "source": [
        "## Training (6 points)\n",
        "\n",
        "Train a model on the given dataset using the PyTorch Module API.\n",
        "\n",
        "Inputs:\n",
        "- loader_train: The loader from which train samples will be drawn from.\n",
        "- loader_test: The loader from which test samples will be drawn from.\n",
        "- model: A PyTorch Module giving the model to train.\n",
        "- optimizer: An Optimizer object we will use to train the model.\n",
        "- epochs: (Optional) A Python integer giving the number of epochs to train for.\n",
        "\n",
        "Returns: Nothing, but prints model accuracies during training."
      ]
    },
    {
      "cell_type": "code",
      "execution_count": 109,
      "metadata": {
        "id": "0Kx_q5rv5ddg"
      },
      "outputs": [],
      "source": [
        "def validate(loader_validation, model, device):\n",
        "    model = model.to(device)\n",
        "    model.eval()\n",
        "    num_samples = 0\n",
        "    num_correct = 0\n",
        "    for t, (x,y) in enumerate(loader_validation):\n",
        "        x = x.to(device)\n",
        "        y = y.to(device)\n",
        "        # For validation using loss:\n",
        "        # loss = F.cross_entropy(model(x), y)\n",
        "        num_samples += x.size()[0]\n",
        "        outputs = torch.argmax(model(x),1)\n",
        "        num_correct += (outputs == y).sum()\n",
        "\n",
        "    return (num_correct / num_samples) * 100\n",
        "\n",
        "def train(loader_train, loader_test, model, optimizer, model_name, epochs=100):\n",
        "\n",
        "    # Working locally on laptop and desktop, sometimes no gpu available. Device is gpu if gpu is available, cpu otherwise\n",
        "    device = torch.device(\"cuda:0\" if torch.cuda.is_available() else \"cpu\")\n",
        "    print(device)\n",
        "    model = model.to(device)\n",
        "    criterion = nn.CrossEntropyLoss()\n",
        "    prevValAcc = None\n",
        "    bestModelStateDict = None\n",
        "    for e in range(epochs):\n",
        "        model.train()\n",
        "        for t, (x, y) in enumerate(loader_train):\n",
        "            x = x.to(device)\n",
        "            y = y.to(device)\n",
        "            outputs = model(x)\n",
        "            loss = criterion(outputs, y)\n",
        "            optimizer.zero_grad()\n",
        "            loss.backward()\n",
        "            optimizer.step()\n",
        "\n",
        "            if t % 100 == 0:\n",
        "                print('Epoch %d, Iteration %d, loss = %.4f' % (e, t, loss.item()))\n",
        "       \n",
        "        valAcc = validate(loader_test, model, device)\n",
        "        print(f\"validation accuracy on validation set: {valAcc}\")\n",
        "        if prevValAcc == None:\n",
        "            prevValAcc = valAcc\n",
        "            bestModelStateDict = model.state_dict()\n",
        "            continue\n",
        "\n",
        "        # Early stopping condition\n",
        "        if valAcc < prevValAcc:\n",
        "             print(f\"EARLY STOP DUE TO DECREASED VALIDATION ACCURACY: STOPPED TRAINING AT EPOCH {e}\")\n",
        "             break\n",
        "        else:\n",
        "            prevValAcc = valAcc\n",
        "            bestModelStateDict = model.state_dict()\n",
        "    # saving model \n",
        "    torch.save(bestModelStateDict, model_name + '.pth')\n",
        "\n",
        "            \n"
      ]
    },
    {
      "cell_type": "markdown",
      "metadata": {
        "id": "bdxEMZpC6E9K"
      },
      "source": [
        "## Testing (6 points)\n",
        "Test a model using the PyTorch Module API.\n",
        "\n",
        "Inputs:\n",
        "- loader: The loader from which test samples will be drawn from.\n",
        "- model: A PyTorch Module giving the model to test.\n",
        "\n",
        "Returns: Nothing, but prints model accuracies during training."
      ]
    },
    {
      "cell_type": "code",
      "execution_count": 110,
      "metadata": {
        "id": "KA5YBjxx6IeF"
      },
      "outputs": [],
      "source": [
        "def test(loader, model, model_name):\n",
        "    model.load_state_dict(torch.load(model_name + '.pth'))\n",
        "    num_correct = 0\n",
        "    num_samples = 0\n",
        "    model.eval() # set model to evaluation mode\n",
        "    device = torch.device(\"cuda:0\" if torch.cuda.is_available() else \"cpu\")\n",
        "    model.to(device)\n",
        "    with torch.no_grad():\n",
        "        for x, y in loader:\n",
        "            x = x.to(device)\n",
        "            y = y.to(device)\n",
        "            num_samples += x.size()[0]\n",
        "            outputs = torch.argmax(model(x),1)\n",
        "            num_correct += (outputs == y).sum()\n",
        "            \n",
        "    acc = num_correct / num_samples\n",
        "    print('Eval %d / %d correct (%.2f)' % (num_correct, num_samples, 100 * acc))\n"
      ]
    },
    {
      "cell_type": "markdown",
      "metadata": {
        "id": "omwoZPA26V-a"
      },
      "source": [
        "Describe your design details in the writeup hw3.pdf. (3 points)\n",
        "\n",
        "Finish your model and optimizer below."
      ]
    },
    {
      "cell_type": "code",
      "execution_count": 111,
      "metadata": {
        "id": "jM6GIIFP6XhG"
      },
      "outputs": [
        {
          "name": "stdout",
          "output_type": "stream",
          "text": [
            "cuda:0\n",
            "Epoch 0, Iteration 0, loss = 2.3404\n",
            "Epoch 0, Iteration 100, loss = 1.4922\n",
            "Epoch 0, Iteration 200, loss = 1.2047\n",
            "Epoch 0, Iteration 300, loss = 0.8513\n",
            "Epoch 0, Iteration 400, loss = 1.0135\n",
            "Epoch 0, Iteration 500, loss = 1.1419\n",
            "Epoch 0, Iteration 600, loss = 1.2679\n",
            "Epoch 0, Iteration 700, loss = 1.0032\n",
            "Epoch 0, Iteration 800, loss = 1.0818\n",
            "validation accuracy on validation set: 57.900001525878906\n",
            "Epoch 1, Iteration 0, loss = 1.1922\n",
            "Epoch 1, Iteration 100, loss = 0.8330\n",
            "Epoch 1, Iteration 200, loss = 0.8397\n",
            "Epoch 1, Iteration 300, loss = 1.0346\n",
            "Epoch 1, Iteration 400, loss = 1.0956\n",
            "Epoch 1, Iteration 500, loss = 1.1017\n",
            "Epoch 1, Iteration 600, loss = 1.0336\n",
            "Epoch 1, Iteration 700, loss = 0.7767\n",
            "Epoch 1, Iteration 800, loss = 0.7886\n",
            "validation accuracy on validation set: 66.69999694824219\n",
            "Epoch 2, Iteration 0, loss = 0.6512\n",
            "Epoch 2, Iteration 100, loss = 0.6989\n",
            "Epoch 2, Iteration 200, loss = 0.7712\n",
            "Epoch 2, Iteration 300, loss = 0.6098\n",
            "Epoch 2, Iteration 400, loss = 0.7021\n",
            "Epoch 2, Iteration 500, loss = 0.8626\n",
            "Epoch 2, Iteration 600, loss = 0.8608\n",
            "Epoch 2, Iteration 700, loss = 0.9528\n",
            "Epoch 2, Iteration 800, loss = 0.9893\n",
            "validation accuracy on validation set: 70.36000061035156\n",
            "Epoch 3, Iteration 0, loss = 0.4846\n",
            "Epoch 3, Iteration 100, loss = 0.7204\n",
            "Epoch 3, Iteration 200, loss = 0.4653\n",
            "Epoch 3, Iteration 300, loss = 0.9003\n",
            "Epoch 3, Iteration 400, loss = 0.6235\n",
            "Epoch 3, Iteration 500, loss = 0.6581\n",
            "Epoch 3, Iteration 600, loss = 0.8630\n",
            "Epoch 3, Iteration 700, loss = 0.7661\n",
            "Epoch 3, Iteration 800, loss = 0.4358\n",
            "validation accuracy on validation set: 72.39999389648438\n",
            "Epoch 4, Iteration 0, loss = 0.5469\n",
            "Epoch 4, Iteration 100, loss = 0.4769\n",
            "Epoch 4, Iteration 200, loss = 0.5660\n",
            "Epoch 4, Iteration 300, loss = 0.6722\n",
            "Epoch 4, Iteration 400, loss = 0.4402\n",
            "Epoch 4, Iteration 500, loss = 0.4195\n",
            "Epoch 4, Iteration 600, loss = 0.5942\n",
            "Epoch 4, Iteration 700, loss = 0.3396\n",
            "Epoch 4, Iteration 800, loss = 0.4915\n",
            "validation accuracy on validation set: 73.41999816894531\n",
            "Epoch 5, Iteration 0, loss = 0.4914\n",
            "Epoch 5, Iteration 100, loss = 0.4002\n",
            "Epoch 5, Iteration 200, loss = 0.4401\n",
            "Epoch 5, Iteration 300, loss = 0.6018\n",
            "Epoch 5, Iteration 400, loss = 0.5899\n",
            "Epoch 5, Iteration 500, loss = 0.3901\n",
            "Epoch 5, Iteration 600, loss = 0.5572\n",
            "Epoch 5, Iteration 700, loss = 0.5624\n",
            "Epoch 5, Iteration 800, loss = 0.6701\n",
            "validation accuracy on validation set: 73.79999542236328\n",
            "Epoch 6, Iteration 0, loss = 0.2598\n",
            "Epoch 6, Iteration 100, loss = 0.2915\n",
            "Epoch 6, Iteration 200, loss = 0.2091\n",
            "Epoch 6, Iteration 300, loss = 0.4238\n",
            "Epoch 6, Iteration 400, loss = 0.4262\n",
            "Epoch 6, Iteration 500, loss = 0.4485\n",
            "Epoch 6, Iteration 600, loss = 0.4973\n",
            "Epoch 6, Iteration 700, loss = 0.3398\n",
            "Epoch 6, Iteration 800, loss = 0.5864\n",
            "validation accuracy on validation set: 74.6199951171875\n",
            "Epoch 7, Iteration 0, loss = 0.2046\n",
            "Epoch 7, Iteration 100, loss = 0.2414\n",
            "Epoch 7, Iteration 200, loss = 0.1785\n",
            "Epoch 7, Iteration 300, loss = 0.2265\n",
            "Epoch 7, Iteration 400, loss = 0.1985\n",
            "Epoch 7, Iteration 500, loss = 0.3247\n",
            "Epoch 7, Iteration 600, loss = 0.2804\n",
            "Epoch 7, Iteration 700, loss = 0.1587\n",
            "Epoch 7, Iteration 800, loss = 0.4554\n",
            "validation accuracy on validation set: 73.0999984741211\n",
            "EARLY STOP DUE TO DECREASED VALIDATION ACCURACY: STOPPED TRAINING AT EPOCH 7\n"
          ]
        }
      ],
      "source": [
        "cifarNet1 = CifarNet()\n",
        "optimizer = optim.Adam(cifarNet1.parameters(), lr = 0.0005, betas=(0.9,0.999))\n",
        "\n",
        "# Train model on training data and save parameters as cifar_model.pth\n",
        "# Early stopping at around epoch 7, roughly 73.8% accuracy\n",
        "train(cifar_train_data_loader, cifar_val_data_loader, cifarNet1, optimizer, model_name=\"cifar_model\", epochs=100)"
      ]
    },
    {
      "cell_type": "code",
      "execution_count": 112,
      "metadata": {},
      "outputs": [
        {
          "name": "stdout",
          "output_type": "stream",
          "text": [
            "Eval 7387 / 10000 correct (73.87)\n"
          ]
        }
      ],
      "source": [
        "# Load model and test it on the testing set\n",
        "test(cifar_test_data_loader, cifarNet1, \"cifar_model\")"
      ]
    },
    {
      "cell_type": "code",
      "execution_count": 113,
      "metadata": {
        "id": "wxvtO5oQGctE"
      },
      "outputs": [
        {
          "name": "stdout",
          "output_type": "stream",
          "text": [
            "cuda:0\n",
            "Epoch 0, Iteration 0, loss = 2.5485\n",
            "Epoch 0, Iteration 100, loss = 0.3378\n",
            "Epoch 0, Iteration 200, loss = 0.1968\n",
            "Epoch 0, Iteration 300, loss = 0.2349\n",
            "Epoch 0, Iteration 400, loss = 0.3979\n",
            "Epoch 0, Iteration 500, loss = 0.2011\n",
            "Epoch 0, Iteration 600, loss = 0.0688\n",
            "Epoch 0, Iteration 700, loss = 0.1174\n",
            "Epoch 0, Iteration 800, loss = 0.1119\n",
            "Epoch 0, Iteration 900, loss = 0.1908\n",
            "Epoch 0, Iteration 1000, loss = 0.0673\n",
            "validation accuracy on validation set: 96.81999969482422\n",
            "Epoch 1, Iteration 0, loss = 0.0355\n",
            "Epoch 1, Iteration 100, loss = 0.1124\n",
            "Epoch 1, Iteration 200, loss = 0.0400\n",
            "Epoch 1, Iteration 300, loss = 0.1987\n",
            "Epoch 1, Iteration 400, loss = 0.1118\n",
            "Epoch 1, Iteration 500, loss = 0.2816\n",
            "Epoch 1, Iteration 600, loss = 0.0351\n",
            "Epoch 1, Iteration 700, loss = 0.0444\n",
            "Epoch 1, Iteration 800, loss = 0.2939\n",
            "Epoch 1, Iteration 900, loss = 0.0526\n",
            "Epoch 1, Iteration 1000, loss = 0.1741\n",
            "validation accuracy on validation set: 97.53999328613281\n",
            "Epoch 2, Iteration 0, loss = 0.0214\n",
            "Epoch 2, Iteration 100, loss = 0.0974\n",
            "Epoch 2, Iteration 200, loss = 0.1564\n",
            "Epoch 2, Iteration 300, loss = 0.0229\n",
            "Epoch 2, Iteration 400, loss = 0.0235\n",
            "Epoch 2, Iteration 500, loss = 0.0873\n",
            "Epoch 2, Iteration 600, loss = 0.1056\n",
            "Epoch 2, Iteration 700, loss = 0.0191\n",
            "Epoch 2, Iteration 800, loss = 0.0413\n",
            "Epoch 2, Iteration 900, loss = 0.0303\n",
            "Epoch 2, Iteration 1000, loss = 0.0290\n",
            "validation accuracy on validation set: 97.88999938964844\n",
            "Epoch 3, Iteration 0, loss = 0.0104\n",
            "Epoch 3, Iteration 100, loss = 0.0406\n",
            "Epoch 3, Iteration 200, loss = 0.0193\n",
            "Epoch 3, Iteration 300, loss = 0.0961\n",
            "Epoch 3, Iteration 400, loss = 0.0760\n",
            "Epoch 3, Iteration 500, loss = 0.1037\n",
            "Epoch 3, Iteration 600, loss = 0.0807\n",
            "Epoch 3, Iteration 700, loss = 0.1441\n",
            "Epoch 3, Iteration 800, loss = 0.0776\n",
            "Epoch 3, Iteration 900, loss = 0.0106\n",
            "Epoch 3, Iteration 1000, loss = 0.0747\n",
            "validation accuracy on validation set: 98.25999450683594\n",
            "Epoch 4, Iteration 0, loss = 0.1070\n",
            "Epoch 4, Iteration 100, loss = 0.0192\n",
            "Epoch 4, Iteration 200, loss = 0.0370\n",
            "Epoch 4, Iteration 300, loss = 0.0503\n",
            "Epoch 4, Iteration 400, loss = 0.0149\n",
            "Epoch 4, Iteration 500, loss = 0.0055\n",
            "Epoch 4, Iteration 600, loss = 0.0088\n",
            "Epoch 4, Iteration 700, loss = 0.1605\n",
            "Epoch 4, Iteration 800, loss = 0.0552\n",
            "Epoch 4, Iteration 900, loss = 0.0593\n",
            "Epoch 4, Iteration 1000, loss = 0.0059\n",
            "validation accuracy on validation set: 97.97999572753906\n",
            "EARLY STOP DUE TO DECREASED VALIDATION ACCURACY: STOPPED TRAINING AT EPOCH 4\n"
          ]
        }
      ],
      "source": [
        "mnistNet1 = MnistNet()\n",
        "# Using Adam optimizer with suggested parameters from class, learning rate = 0.001, betas = 0.9, 0.999\n",
        "optimizer = optim.Adam(mnistNet1.parameters(), lr = 0.0005, betas=(0.9,0.999))\n",
        "\n",
        "# Train model on training data and save parameters as mnist_model.pth\n",
        "# Early stopping at around epoch 4, roughly 98% accuracy\n",
        "train(mnist_train_data_loader, mnist_test_data_loader, mnistNet1, optimizer, model_name = \"mnist_model\", epochs= 100)\n"
      ]
    },
    {
      "cell_type": "code",
      "execution_count": 114,
      "metadata": {},
      "outputs": [
        {
          "name": "stdout",
          "output_type": "stream",
          "text": [
            "Eval 9798 / 10000 correct (97.98)\n"
          ]
        }
      ],
      "source": [
        "# Load model and test it on the testing set\n",
        "test(mnist_test_data_loader, mnistNet1, \"mnist_model\")"
      ]
    }
  ],
  "metadata": {
    "colab": {
      "provenance": [],
      "toc_visible": true
    },
    "kernelspec": {
      "display_name": "Python 3",
      "name": "python3"
    },
    "language_info": {
      "codemirror_mode": {
        "name": "ipython",
        "version": 3
      },
      "file_extension": ".py",
      "mimetype": "text/x-python",
      "name": "python",
      "nbconvert_exporter": "python",
      "pygments_lexer": "ipython3",
      "version": "3.11.4"
    }
  },
  "nbformat": 4,
  "nbformat_minor": 0
}
